{
 "cells": [
  {
   "cell_type": "markdown",
   "metadata": {},
   "source": [
    "### Reading Data"
   ]
  },
  {
   "cell_type": "code",
   "execution_count": 5,
   "metadata": {},
   "outputs": [],
   "source": [
    "import pandas as pd"
   ]
  },
  {
   "cell_type": "code",
   "execution_count": 47,
   "metadata": {},
   "outputs": [
    {
     "name": "stderr",
     "output_type": "stream",
     "text": [
      "/var/folders/x9/n61cr7z95kj3xbpqjm2_3t6m0000gn/T/ipykernel_52141/1661608246.py:2: DtypeWarning: Columns (17) have mixed types. Specify dtype option on import or set low_memory=False.\n",
      "  df = pd.read_csv('../data/raw/NYC-Airbnb-2023.csv')\n"
     ]
    },
    {
     "data": {
      "text/html": [
       "<div>\n",
       "<style scoped>\n",
       "    .dataframe tbody tr th:only-of-type {\n",
       "        vertical-align: middle;\n",
       "    }\n",
       "\n",
       "    .dataframe tbody tr th {\n",
       "        vertical-align: top;\n",
       "    }\n",
       "\n",
       "    .dataframe thead th {\n",
       "        text-align: right;\n",
       "    }\n",
       "</style>\n",
       "<table border=\"1\" class=\"dataframe\">\n",
       "  <thead>\n",
       "    <tr style=\"text-align: right;\">\n",
       "      <th></th>\n",
       "      <th>id</th>\n",
       "      <th>name</th>\n",
       "      <th>host_id</th>\n",
       "      <th>host_name</th>\n",
       "      <th>neighbourhood_group</th>\n",
       "      <th>neighbourhood</th>\n",
       "      <th>latitude</th>\n",
       "      <th>longitude</th>\n",
       "      <th>room_type</th>\n",
       "      <th>price</th>\n",
       "      <th>minimum_nights</th>\n",
       "      <th>number_of_reviews</th>\n",
       "      <th>last_review</th>\n",
       "      <th>reviews_per_month</th>\n",
       "      <th>calculated_host_listings_count</th>\n",
       "      <th>availability_365</th>\n",
       "      <th>number_of_reviews_ltm</th>\n",
       "      <th>license</th>\n",
       "    </tr>\n",
       "  </thead>\n",
       "  <tbody>\n",
       "    <tr>\n",
       "      <th>0</th>\n",
       "      <td>2595</td>\n",
       "      <td>Skylit Midtown Castle</td>\n",
       "      <td>2845</td>\n",
       "      <td>Jennifer</td>\n",
       "      <td>Manhattan</td>\n",
       "      <td>Midtown</td>\n",
       "      <td>40.75356</td>\n",
       "      <td>-73.98559</td>\n",
       "      <td>Entire home/apt</td>\n",
       "      <td>150</td>\n",
       "      <td>30</td>\n",
       "      <td>49</td>\n",
       "      <td>2022-06-21</td>\n",
       "      <td>0.30</td>\n",
       "      <td>3</td>\n",
       "      <td>314</td>\n",
       "      <td>1</td>\n",
       "      <td>NaN</td>\n",
       "    </tr>\n",
       "    <tr>\n",
       "      <th>1</th>\n",
       "      <td>5121</td>\n",
       "      <td>BlissArtsSpace!</td>\n",
       "      <td>7356</td>\n",
       "      <td>Garon</td>\n",
       "      <td>Brooklyn</td>\n",
       "      <td>Bedford-Stuyvesant</td>\n",
       "      <td>40.68535</td>\n",
       "      <td>-73.95512</td>\n",
       "      <td>Private room</td>\n",
       "      <td>60</td>\n",
       "      <td>30</td>\n",
       "      <td>50</td>\n",
       "      <td>2019-12-02</td>\n",
       "      <td>0.30</td>\n",
       "      <td>2</td>\n",
       "      <td>365</td>\n",
       "      <td>0</td>\n",
       "      <td>NaN</td>\n",
       "    </tr>\n",
       "    <tr>\n",
       "      <th>2</th>\n",
       "      <td>5203</td>\n",
       "      <td>Cozy Clean Guest Room - Family Apt</td>\n",
       "      <td>7490</td>\n",
       "      <td>MaryEllen</td>\n",
       "      <td>Manhattan</td>\n",
       "      <td>Upper West Side</td>\n",
       "      <td>40.80380</td>\n",
       "      <td>-73.96751</td>\n",
       "      <td>Private room</td>\n",
       "      <td>75</td>\n",
       "      <td>2</td>\n",
       "      <td>118</td>\n",
       "      <td>2017-07-21</td>\n",
       "      <td>0.72</td>\n",
       "      <td>1</td>\n",
       "      <td>0</td>\n",
       "      <td>0</td>\n",
       "      <td>NaN</td>\n",
       "    </tr>\n",
       "    <tr>\n",
       "      <th>3</th>\n",
       "      <td>5178</td>\n",
       "      <td>Large Furnished Room Near B'way</td>\n",
       "      <td>8967</td>\n",
       "      <td>Shunichi</td>\n",
       "      <td>Manhattan</td>\n",
       "      <td>Midtown</td>\n",
       "      <td>40.76457</td>\n",
       "      <td>-73.98317</td>\n",
       "      <td>Private room</td>\n",
       "      <td>68</td>\n",
       "      <td>2</td>\n",
       "      <td>575</td>\n",
       "      <td>2023-02-19</td>\n",
       "      <td>3.41</td>\n",
       "      <td>1</td>\n",
       "      <td>106</td>\n",
       "      <td>52</td>\n",
       "      <td>NaN</td>\n",
       "    </tr>\n",
       "    <tr>\n",
       "      <th>4</th>\n",
       "      <td>5136</td>\n",
       "      <td>Large Sunny Brooklyn Duplex, Patio + Garden</td>\n",
       "      <td>7378</td>\n",
       "      <td>Rebecca</td>\n",
       "      <td>Brooklyn</td>\n",
       "      <td>Sunset Park</td>\n",
       "      <td>40.66265</td>\n",
       "      <td>-73.99454</td>\n",
       "      <td>Entire home/apt</td>\n",
       "      <td>275</td>\n",
       "      <td>60</td>\n",
       "      <td>3</td>\n",
       "      <td>2022-08-10</td>\n",
       "      <td>0.03</td>\n",
       "      <td>1</td>\n",
       "      <td>181</td>\n",
       "      <td>1</td>\n",
       "      <td>NaN</td>\n",
       "    </tr>\n",
       "  </tbody>\n",
       "</table>\n",
       "</div>"
      ],
      "text/plain": [
       "     id                                         name  host_id  host_name  \\\n",
       "0  2595                        Skylit Midtown Castle     2845   Jennifer   \n",
       "1  5121                              BlissArtsSpace!     7356      Garon   \n",
       "2  5203           Cozy Clean Guest Room - Family Apt     7490  MaryEllen   \n",
       "3  5178             Large Furnished Room Near B'way　     8967   Shunichi   \n",
       "4  5136  Large Sunny Brooklyn Duplex, Patio + Garden     7378    Rebecca   \n",
       "\n",
       "  neighbourhood_group       neighbourhood  latitude  longitude  \\\n",
       "0           Manhattan             Midtown  40.75356  -73.98559   \n",
       "1            Brooklyn  Bedford-Stuyvesant  40.68535  -73.95512   \n",
       "2           Manhattan     Upper West Side  40.80380  -73.96751   \n",
       "3           Manhattan             Midtown  40.76457  -73.98317   \n",
       "4            Brooklyn         Sunset Park  40.66265  -73.99454   \n",
       "\n",
       "         room_type  price  minimum_nights  number_of_reviews last_review  \\\n",
       "0  Entire home/apt    150              30                 49  2022-06-21   \n",
       "1     Private room     60              30                 50  2019-12-02   \n",
       "2     Private room     75               2                118  2017-07-21   \n",
       "3     Private room     68               2                575  2023-02-19   \n",
       "4  Entire home/apt    275              60                  3  2022-08-10   \n",
       "\n",
       "   reviews_per_month  calculated_host_listings_count  availability_365  \\\n",
       "0               0.30                               3               314   \n",
       "1               0.30                               2               365   \n",
       "2               0.72                               1                 0   \n",
       "3               3.41                               1               106   \n",
       "4               0.03                               1               181   \n",
       "\n",
       "   number_of_reviews_ltm license  \n",
       "0                      1     NaN  \n",
       "1                      0     NaN  \n",
       "2                      0     NaN  \n",
       "3                     52     NaN  \n",
       "4                      1     NaN  "
      ]
     },
     "execution_count": 47,
     "metadata": {},
     "output_type": "execute_result"
    }
   ],
   "source": [
    "# Reading Data\n",
    "df = pd.read_csv('../data/raw/NYC-Airbnb-2023.csv')\n",
    "df.head()"
   ]
  },
  {
   "cell_type": "code",
   "execution_count": 48,
   "metadata": {},
   "outputs": [
    {
     "data": {
      "text/plain": [
       "(42931, 18)"
      ]
     },
     "execution_count": 48,
     "metadata": {},
     "output_type": "execute_result"
    }
   ],
   "source": [
    "df.shape"
   ]
  },
  {
   "cell_type": "markdown",
   "metadata": {},
   "source": [
    "### Data Preprocessing"
   ]
  },
  {
   "cell_type": "markdown",
   "metadata": {},
   "source": [
    "#### 1. Data Cleaning"
   ]
  },
  {
   "cell_type": "markdown",
   "metadata": {},
   "source": [
    "##### Handle Missing Values:"
   ]
  },
  {
   "cell_type": "code",
   "execution_count": 49,
   "metadata": {},
   "outputs": [
    {
     "name": "stdout",
     "output_type": "stream",
     "text": [
      "                            Column  Missing Values  % Missing\n",
      "0                               id               0   0.000000\n",
      "1                             name              12   0.027952\n",
      "2                          host_id               0   0.000000\n",
      "3                        host_name               5   0.011647\n",
      "4              neighbourhood_group               0   0.000000\n",
      "5                    neighbourhood               0   0.000000\n",
      "6                         latitude               0   0.000000\n",
      "7                        longitude               0   0.000000\n",
      "8                        room_type               0   0.000000\n",
      "9                            price               0   0.000000\n",
      "10                  minimum_nights               0   0.000000\n",
      "11               number_of_reviews               0   0.000000\n",
      "12                     last_review           10304  24.001304\n",
      "13               reviews_per_month           10304  24.001304\n",
      "14  calculated_host_listings_count               0   0.000000\n",
      "15                availability_365               0   0.000000\n",
      "16           number_of_reviews_ltm               0   0.000000\n",
      "17                         license           42930  99.997671\n"
     ]
    }
   ],
   "source": [
    "# Identify Missing Values:\n",
    "# Check for missing values\n",
    "missing_data_summary = df.isnull().sum().reset_index()\n",
    "missing_data_summary.columns = ['Column', 'Missing Values']\n",
    "missing_data_summary['% Missing'] = (missing_data_summary['Missing Values'] / len(df)) * 100\n",
    "\n",
    "# Display the summary\n",
    "print(missing_data_summary)"
   ]
  },
  {
   "cell_type": "code",
   "execution_count": 50,
   "metadata": {},
   "outputs": [],
   "source": [
    "# Save the summary to a file for reference\n",
    "missing_data_summary.to_csv('../reports/missing_data_summary.csv', index=False)"
   ]
  },
  {
   "cell_type": "code",
   "execution_count": 51,
   "metadata": {},
   "outputs": [
    {
     "data": {
      "image/png": "[encoded data removed]",
      "text/plain": [
       "<Figure size 2000x800 with 2 Axes>"
      ]
     },
     "metadata": {},
     "output_type": "display_data"
    }
   ],
   "source": [
    "# Visualise missing values\n",
    "import seaborn as sns\n",
    "import matplotlib.pyplot as plt\n",
    "# Visualise missing values\n",
    "plt.figure(figsize=(20, 8))\n",
    "sns.heatmap(df.isnull().T, cmap='viridis', cbar_kws={'label': 'Missing Values'})\n",
    "plt.xlabel('Columns')\n",
    "plt.ylabel('Rows')\n",
    "plt.title('Missing Values Heatmap')\n",
    "# Visualize missing data using heatmap\n",
    "plt.savefig('../reports/figures/missing_value_heatmap.png')\n",
    "plt.show()"
   ]
  },
  {
   "cell_type": "markdown",
   "metadata": {},
   "source": [
    "a.   Removal:\n",
    "Remove rows with missing values if imputation is not feasible"
   ]
  },
  {
   "cell_type": "code",
   "execution_count": 89,
   "metadata": {},
   "outputs": [],
   "source": [
    "# Remove rows/columns with missing values\n",
    "# license column (~99.99% missing)\n",
    "df.drop(columns=['license'], inplace=True)"
   ]
  },
  {
   "cell_type": "markdown",
   "metadata": {},
   "source": [
    "b.    Flagging:"
   ]
  },
  {
   "cell_type": "code",
   "execution_count": 53,
   "metadata": {},
   "outputs": [],
   "source": [
    "# Create flag columns\n",
    "df['name_missing'] = df['name'].isna().astype(int)\n",
    "df['host_name_missing'] = df['host_name'].isna().astype(int)"
   ]
  },
  {
   "cell_type": "code",
   "execution_count": 54,
   "metadata": {},
   "outputs": [
    {
     "data": {
      "text/html": [
       "<div>\n",
       "<style scoped>\n",
       "    .dataframe tbody tr th:only-of-type {\n",
       "        vertical-align: middle;\n",
       "    }\n",
       "\n",
       "    .dataframe tbody tr th {\n",
       "        vertical-align: top;\n",
       "    }\n",
       "\n",
       "    .dataframe thead th {\n",
       "        text-align: right;\n",
       "    }\n",
       "</style>\n",
       "<table border=\"1\" class=\"dataframe\">\n",
       "  <thead>\n",
       "    <tr style=\"text-align: right;\">\n",
       "      <th></th>\n",
       "      <th>host_name</th>\n",
       "      <th>host_name_missing</th>\n",
       "    </tr>\n",
       "  </thead>\n",
       "  <tbody>\n",
       "    <tr>\n",
       "      <th>2860</th>\n",
       "      <td>NaN</td>\n",
       "      <td>1</td>\n",
       "    </tr>\n",
       "    <tr>\n",
       "      <th>3128</th>\n",
       "      <td>NaN</td>\n",
       "      <td>1</td>\n",
       "    </tr>\n",
       "    <tr>\n",
       "      <th>4012</th>\n",
       "      <td>NaN</td>\n",
       "      <td>1</td>\n",
       "    </tr>\n",
       "    <tr>\n",
       "      <th>4347</th>\n",
       "      <td>NaN</td>\n",
       "      <td>1</td>\n",
       "    </tr>\n",
       "    <tr>\n",
       "      <th>4732</th>\n",
       "      <td>NaN</td>\n",
       "      <td>1</td>\n",
       "    </tr>\n",
       "  </tbody>\n",
       "</table>\n",
       "</div>"
      ],
      "text/plain": [
       "     host_name  host_name_missing\n",
       "2860       NaN                  1\n",
       "3128       NaN                  1\n",
       "4012       NaN                  1\n",
       "4347       NaN                  1\n",
       "4732       NaN                  1"
      ]
     },
     "execution_count": 54,
     "metadata": {},
     "output_type": "execute_result"
    }
   ],
   "source": [
    "# verify flagging host_name\n",
    "df.loc[(df['host_name_missing'] == 1),['host_name','host_name_missing']]"
   ]
  },
  {
   "cell_type": "code",
   "execution_count": 55,
   "metadata": {},
   "outputs": [
    {
     "data": {
      "text/html": [
       "<div>\n",
       "<style scoped>\n",
       "    .dataframe tbody tr th:only-of-type {\n",
       "        vertical-align: middle;\n",
       "    }\n",
       "\n",
       "    .dataframe tbody tr th {\n",
       "        vertical-align: top;\n",
       "    }\n",
       "\n",
       "    .dataframe thead th {\n",
       "        text-align: right;\n",
       "    }\n",
       "</style>\n",
       "<table border=\"1\" class=\"dataframe\">\n",
       "  <thead>\n",
       "    <tr style=\"text-align: right;\">\n",
       "      <th></th>\n",
       "      <th>name</th>\n",
       "      <th>name_missing</th>\n",
       "    </tr>\n",
       "  </thead>\n",
       "  <tbody>\n",
       "    <tr>\n",
       "      <th>2734</th>\n",
       "      <td>NaN</td>\n",
       "      <td>1</td>\n",
       "    </tr>\n",
       "    <tr>\n",
       "      <th>2887</th>\n",
       "      <td>NaN</td>\n",
       "      <td>1</td>\n",
       "    </tr>\n",
       "    <tr>\n",
       "      <th>2969</th>\n",
       "      <td>NaN</td>\n",
       "      <td>1</td>\n",
       "    </tr>\n",
       "    <tr>\n",
       "      <th>3157</th>\n",
       "      <td>NaN</td>\n",
       "      <td>1</td>\n",
       "    </tr>\n",
       "    <tr>\n",
       "      <th>4240</th>\n",
       "      <td>NaN</td>\n",
       "      <td>1</td>\n",
       "    </tr>\n",
       "    <tr>\n",
       "      <th>5842</th>\n",
       "      <td>NaN</td>\n",
       "      <td>1</td>\n",
       "    </tr>\n",
       "    <tr>\n",
       "      <th>6242</th>\n",
       "      <td>NaN</td>\n",
       "      <td>1</td>\n",
       "    </tr>\n",
       "    <tr>\n",
       "      <th>6556</th>\n",
       "      <td>NaN</td>\n",
       "      <td>1</td>\n",
       "    </tr>\n",
       "    <tr>\n",
       "      <th>6589</th>\n",
       "      <td>NaN</td>\n",
       "      <td>1</td>\n",
       "    </tr>\n",
       "    <tr>\n",
       "      <th>7670</th>\n",
       "      <td>NaN</td>\n",
       "      <td>1</td>\n",
       "    </tr>\n",
       "    <tr>\n",
       "      <th>7708</th>\n",
       "      <td>NaN</td>\n",
       "      <td>1</td>\n",
       "    </tr>\n",
       "    <tr>\n",
       "      <th>11603</th>\n",
       "      <td>NaN</td>\n",
       "      <td>1</td>\n",
       "    </tr>\n",
       "  </tbody>\n",
       "</table>\n",
       "</div>"
      ],
      "text/plain": [
       "      name  name_missing\n",
       "2734   NaN             1\n",
       "2887   NaN             1\n",
       "2969   NaN             1\n",
       "3157   NaN             1\n",
       "4240   NaN             1\n",
       "5842   NaN             1\n",
       "6242   NaN             1\n",
       "6556   NaN             1\n",
       "6589   NaN             1\n",
       "7670   NaN             1\n",
       "7708   NaN             1\n",
       "11603  NaN             1"
      ]
     },
     "execution_count": 55,
     "metadata": {},
     "output_type": "execute_result"
    }
   ],
   "source": [
    "# verify flgging name_missing\n",
    "df.loc[(df['name_missing'] == 1),['name','name_missing']]"
   ]
  },
  {
   "cell_type": "code",
   "execution_count": 56,
   "metadata": {},
   "outputs": [
    {
     "data": {
      "text/plain": [
       "name_missing\n",
       "0    42919\n",
       "1       12\n",
       "Name: count, dtype: int64"
      ]
     },
     "execution_count": 56,
     "metadata": {},
     "output_type": "execute_result"
    }
   ],
   "source": [
    "df['name_missing'].value_counts()"
   ]
  },
  {
   "cell_type": "code",
   "execution_count": 57,
   "metadata": {},
   "outputs": [
    {
     "data": {
      "text/plain": [
       "host_name_missing\n",
       "0    42926\n",
       "1        5\n",
       "Name: count, dtype: int64"
      ]
     },
     "execution_count": 57,
     "metadata": {},
     "output_type": "execute_result"
    }
   ],
   "source": [
    "df['host_name_missing'].value_counts()"
   ]
  },
  {
   "cell_type": "code",
   "execution_count": 58,
   "metadata": {},
   "outputs": [],
   "source": [
    "# Create flag columns\n",
    "df['last_review_missing'] = df['last_review'].isna().astype(int)\n",
    "df['reviews_per_month_missing'] = df['reviews_per_month'].isna().astype(int)"
   ]
  },
  {
   "cell_type": "code",
   "execution_count": 59,
   "metadata": {},
   "outputs": [
    {
     "data": {
      "text/html": [
       "<div>\n",
       "<style scoped>\n",
       "    .dataframe tbody tr th:only-of-type {\n",
       "        vertical-align: middle;\n",
       "    }\n",
       "\n",
       "    .dataframe tbody tr th {\n",
       "        vertical-align: top;\n",
       "    }\n",
       "\n",
       "    .dataframe thead th {\n",
       "        text-align: right;\n",
       "    }\n",
       "</style>\n",
       "<table border=\"1\" class=\"dataframe\">\n",
       "  <thead>\n",
       "    <tr style=\"text-align: right;\">\n",
       "      <th></th>\n",
       "      <th>last_review</th>\n",
       "      <th>last_review_missing</th>\n",
       "    </tr>\n",
       "  </thead>\n",
       "  <tbody>\n",
       "    <tr>\n",
       "      <th>15</th>\n",
       "      <td>NaN</td>\n",
       "      <td>1</td>\n",
       "    </tr>\n",
       "    <tr>\n",
       "      <th>47</th>\n",
       "      <td>NaN</td>\n",
       "      <td>1</td>\n",
       "    </tr>\n",
       "    <tr>\n",
       "      <th>88</th>\n",
       "      <td>NaN</td>\n",
       "      <td>1</td>\n",
       "    </tr>\n",
       "    <tr>\n",
       "      <th>101</th>\n",
       "      <td>NaN</td>\n",
       "      <td>1</td>\n",
       "    </tr>\n",
       "    <tr>\n",
       "      <th>114</th>\n",
       "      <td>NaN</td>\n",
       "      <td>1</td>\n",
       "    </tr>\n",
       "    <tr>\n",
       "      <th>...</th>\n",
       "      <td>...</td>\n",
       "      <td>...</td>\n",
       "    </tr>\n",
       "    <tr>\n",
       "      <th>42926</th>\n",
       "      <td>NaN</td>\n",
       "      <td>1</td>\n",
       "    </tr>\n",
       "    <tr>\n",
       "      <th>42927</th>\n",
       "      <td>NaN</td>\n",
       "      <td>1</td>\n",
       "    </tr>\n",
       "    <tr>\n",
       "      <th>42928</th>\n",
       "      <td>NaN</td>\n",
       "      <td>1</td>\n",
       "    </tr>\n",
       "    <tr>\n",
       "      <th>42929</th>\n",
       "      <td>NaN</td>\n",
       "      <td>1</td>\n",
       "    </tr>\n",
       "    <tr>\n",
       "      <th>42930</th>\n",
       "      <td>NaN</td>\n",
       "      <td>1</td>\n",
       "    </tr>\n",
       "  </tbody>\n",
       "</table>\n",
       "<p>10304 rows × 2 columns</p>\n",
       "</div>"
      ],
      "text/plain": [
       "      last_review  last_review_missing\n",
       "15            NaN                    1\n",
       "47            NaN                    1\n",
       "88            NaN                    1\n",
       "101           NaN                    1\n",
       "114           NaN                    1\n",
       "...           ...                  ...\n",
       "42926         NaN                    1\n",
       "42927         NaN                    1\n",
       "42928         NaN                    1\n",
       "42929         NaN                    1\n",
       "42930         NaN                    1\n",
       "\n",
       "[10304 rows x 2 columns]"
      ]
     },
     "execution_count": 59,
     "metadata": {},
     "output_type": "execute_result"
    }
   ],
   "source": [
    "# verify flgging last_review_missing\n",
    "df.loc[(df['last_review_missing'] == 1),['last_review','last_review_missing']]"
   ]
  },
  {
   "cell_type": "code",
   "execution_count": 60,
   "metadata": {},
   "outputs": [
    {
     "data": {
      "text/plain": [
       "last_review_missing\n",
       "0    32627\n",
       "1    10304\n",
       "Name: count, dtype: int64"
      ]
     },
     "execution_count": 60,
     "metadata": {},
     "output_type": "execute_result"
    }
   ],
   "source": [
    "# verify flgging last_review_missing\n",
    "df['last_review_missing'].value_counts()"
   ]
  },
  {
   "cell_type": "code",
   "execution_count": 61,
   "metadata": {},
   "outputs": [
    {
     "data": {
      "text/html": [
       "<div>\n",
       "<style scoped>\n",
       "    .dataframe tbody tr th:only-of-type {\n",
       "        vertical-align: middle;\n",
       "    }\n",
       "\n",
       "    .dataframe tbody tr th {\n",
       "        vertical-align: top;\n",
       "    }\n",
       "\n",
       "    .dataframe thead th {\n",
       "        text-align: right;\n",
       "    }\n",
       "</style>\n",
       "<table border=\"1\" class=\"dataframe\">\n",
       "  <thead>\n",
       "    <tr style=\"text-align: right;\">\n",
       "      <th></th>\n",
       "      <th>reviews_per_month</th>\n",
       "      <th>reviews_per_month_missing</th>\n",
       "    </tr>\n",
       "  </thead>\n",
       "  <tbody>\n",
       "    <tr>\n",
       "      <th>15</th>\n",
       "      <td>NaN</td>\n",
       "      <td>1</td>\n",
       "    </tr>\n",
       "    <tr>\n",
       "      <th>47</th>\n",
       "      <td>NaN</td>\n",
       "      <td>1</td>\n",
       "    </tr>\n",
       "    <tr>\n",
       "      <th>88</th>\n",
       "      <td>NaN</td>\n",
       "      <td>1</td>\n",
       "    </tr>\n",
       "    <tr>\n",
       "      <th>101</th>\n",
       "      <td>NaN</td>\n",
       "      <td>1</td>\n",
       "    </tr>\n",
       "    <tr>\n",
       "      <th>114</th>\n",
       "      <td>NaN</td>\n",
       "      <td>1</td>\n",
       "    </tr>\n",
       "    <tr>\n",
       "      <th>...</th>\n",
       "      <td>...</td>\n",
       "      <td>...</td>\n",
       "    </tr>\n",
       "    <tr>\n",
       "      <th>42926</th>\n",
       "      <td>NaN</td>\n",
       "      <td>1</td>\n",
       "    </tr>\n",
       "    <tr>\n",
       "      <th>42927</th>\n",
       "      <td>NaN</td>\n",
       "      <td>1</td>\n",
       "    </tr>\n",
       "    <tr>\n",
       "      <th>42928</th>\n",
       "      <td>NaN</td>\n",
       "      <td>1</td>\n",
       "    </tr>\n",
       "    <tr>\n",
       "      <th>42929</th>\n",
       "      <td>NaN</td>\n",
       "      <td>1</td>\n",
       "    </tr>\n",
       "    <tr>\n",
       "      <th>42930</th>\n",
       "      <td>NaN</td>\n",
       "      <td>1</td>\n",
       "    </tr>\n",
       "  </tbody>\n",
       "</table>\n",
       "<p>10304 rows × 2 columns</p>\n",
       "</div>"
      ],
      "text/plain": [
       "       reviews_per_month  reviews_per_month_missing\n",
       "15                   NaN                          1\n",
       "47                   NaN                          1\n",
       "88                   NaN                          1\n",
       "101                  NaN                          1\n",
       "114                  NaN                          1\n",
       "...                  ...                        ...\n",
       "42926                NaN                          1\n",
       "42927                NaN                          1\n",
       "42928                NaN                          1\n",
       "42929                NaN                          1\n",
       "42930                NaN                          1\n",
       "\n",
       "[10304 rows x 2 columns]"
      ]
     },
     "execution_count": 61,
     "metadata": {},
     "output_type": "execute_result"
    }
   ],
   "source": [
    "# verify flgging reviews_per_month_missing\n",
    "df.loc[(df['reviews_per_month_missing'] == 1),['reviews_per_month','reviews_per_month_missing']]"
   ]
  },
  {
   "cell_type": "code",
   "execution_count": 62,
   "metadata": {},
   "outputs": [
    {
     "data": {
      "text/plain": [
       "reviews_per_month_missing\n",
       "0    32627\n",
       "1    10304\n",
       "Name: count, dtype: int64"
      ]
     },
     "execution_count": 62,
     "metadata": {},
     "output_type": "execute_result"
    }
   ],
   "source": [
    "# verify flgging reviews_per_month_missing\n",
    "df['reviews_per_month_missing'].value_counts()"
   ]
  },
  {
   "cell_type": "markdown",
   "metadata": {},
   "source": [
    "c. Imputation"
   ]
  },
  {
   "cell_type": "code",
   "execution_count": 63,
   "metadata": {},
   "outputs": [],
   "source": [
    "# Imputing both Categorical columns name & host_name with 'Unknown'\n",
    "# name and host_name columns (~0.03% and ~0.01% missing)\n",
    "df['name'] = df['name'].fillna('Unknown')\n",
    "df['host_name'] = df['host_name'].fillna('Unknown')"
   ]
  },
  {
   "cell_type": "code",
   "execution_count": 77,
   "metadata": {},
   "outputs": [],
   "source": [
    "# Impute last_review with a Nat(Not a Time) date and reviews_per_month with 0.0\n",
    "df['last_review'] = df['last_review'].fillna(pd.NaT)\n",
    "df['reviews_per_month'] = df['reviews_per_month'].fillna(0.0)"
   ]
  },
  {
   "cell_type": "markdown",
   "metadata": {},
   "source": [
    "##### Correct Errors"
   ]
  },
  {
   "cell_type": "markdown",
   "metadata": {},
   "source": [
    "1. Fix Inconsistencies:\n",
    "Standardize categorical values."
   ]
  },
  {
   "cell_type": "code",
   "execution_count": 65,
   "metadata": {},
   "outputs": [],
   "source": [
    "###########################################################################\n",
    "# Standardize column names\n",
    "###########################################################################\n",
    "df.columns = (\n",
    "    df.columns\n",
    "    .str.lower()                  # Convert to lowercase\n",
    "    .str.replace(' ', '_')        # Replace spaces with underscores\n",
    "    .str.replace(r'[^\\w\\s]', '')  # Remove special characters\n",
    ")"
   ]
  },
  {
   "cell_type": "code",
   "execution_count": 66,
   "metadata": {},
   "outputs": [
    {
     "name": "stdout",
     "output_type": "stream",
     "text": [
      "No duplication in column names\n"
     ]
    }
   ],
   "source": [
    "\n",
    "###########################################################################\n",
    "# # Ensuring column names are unique\n",
    "###########################################################################\n",
    "# Step 1: Get the total number of columns\n",
    "total_columns = len(df.columns)\n",
    "\n",
    "# # Step 2: Get the unique column names\n",
    "unique_columns = df.columns.unique()\n",
    "\n",
    "# Step 3: Check if the shape of total and unique column names are the same\n",
    "if total_columns == len(unique_columns):\n",
    "    print(\"No duplication in column names\")\n",
    "else:\n",
    "    print(\"Duplication found in column names\")\n",
    "    \n",
    "    # Step 4: Apply the duplicate() method to deduplicate column names\n",
    "    # will return original names if no duplication otherwise column_name_dup1, column_name_dup2 etc for duplicated\n",
    "    # column names\n",
    "    df.columns = df.columns.duplicate(suffix='_dup')\n",
    "\n",
    "    print(\"Column names after deduplication:\")\n",
    "    print(df.columns)\n"
   ]
  },
  {
   "cell_type": "code",
   "execution_count": 67,
   "metadata": {},
   "outputs": [],
   "source": [
    "###########################################################################\n",
    "#  Remove Leading/Trailing Whitespace from String Columns \n",
    "###########################################################################\n",
    "\n",
    "# Define string columns\n",
    "string_columns = ['name', 'host_name', 'neighbourhood_group', 'neighbourhood', 'room_type']\n",
    "\n",
    "# Remove leading/trailing whitespace from string columns\n",
    "df[string_columns] = df[string_columns].apply(lambda x: x.str.strip())\n"
   ]
  },
  {
   "cell_type": "code",
   "execution_count": 68,
   "metadata": {},
   "outputs": [
    {
     "data": {
      "text/html": [
       "<div>\n",
       "<style scoped>\n",
       "    .dataframe tbody tr th:only-of-type {\n",
       "        vertical-align: middle;\n",
       "    }\n",
       "\n",
       "    .dataframe tbody tr th {\n",
       "        vertical-align: top;\n",
       "    }\n",
       "\n",
       "    .dataframe thead th {\n",
       "        text-align: right;\n",
       "    }\n",
       "</style>\n",
       "<table border=\"1\" class=\"dataframe\">\n",
       "  <thead>\n",
       "    <tr style=\"text-align: right;\">\n",
       "      <th></th>\n",
       "      <th>id</th>\n",
       "      <th>host_id</th>\n",
       "      <th>latitude</th>\n",
       "      <th>longitude</th>\n",
       "      <th>price</th>\n",
       "      <th>minimum_nights</th>\n",
       "      <th>number_of_reviews</th>\n",
       "      <th>reviews_per_month</th>\n",
       "      <th>calculated_host_listings_count</th>\n",
       "      <th>availability_365</th>\n",
       "      <th>number_of_reviews_ltm</th>\n",
       "      <th>name_missing</th>\n",
       "      <th>host_name_missing</th>\n",
       "      <th>last_review_missing</th>\n",
       "      <th>reviews_per_month_missing</th>\n",
       "    </tr>\n",
       "  </thead>\n",
       "  <tbody>\n",
       "    <tr>\n",
       "      <th>count</th>\n",
       "      <td>4.293100e+04</td>\n",
       "      <td>4.293100e+04</td>\n",
       "      <td>42931.000000</td>\n",
       "      <td>42931.000000</td>\n",
       "      <td>42931.000000</td>\n",
       "      <td>42931.000000</td>\n",
       "      <td>42931.000000</td>\n",
       "      <td>42931.000000</td>\n",
       "      <td>42931.000000</td>\n",
       "      <td>42931.000000</td>\n",
       "      <td>42931.000000</td>\n",
       "      <td>42931.000000</td>\n",
       "      <td>42931.000000</td>\n",
       "      <td>42931.000000</td>\n",
       "      <td>42931.000000</td>\n",
       "    </tr>\n",
       "    <tr>\n",
       "      <th>mean</th>\n",
       "      <td>2.222772e+17</td>\n",
       "      <td>1.516012e+08</td>\n",
       "      <td>40.728273</td>\n",
       "      <td>-73.943665</td>\n",
       "      <td>200.307167</td>\n",
       "      <td>18.111178</td>\n",
       "      <td>25.856001</td>\n",
       "      <td>0.888416</td>\n",
       "      <td>24.054809</td>\n",
       "      <td>140.262211</td>\n",
       "      <td>7.736507</td>\n",
       "      <td>0.000280</td>\n",
       "      <td>0.000116</td>\n",
       "      <td>0.240013</td>\n",
       "      <td>0.240013</td>\n",
       "    </tr>\n",
       "    <tr>\n",
       "      <th>std</th>\n",
       "      <td>3.344213e+17</td>\n",
       "      <td>1.621301e+08</td>\n",
       "      <td>0.057640</td>\n",
       "      <td>0.056627</td>\n",
       "      <td>895.082911</td>\n",
       "      <td>27.462513</td>\n",
       "      <td>56.616344</td>\n",
       "      <td>1.638122</td>\n",
       "      <td>80.867958</td>\n",
       "      <td>142.001486</td>\n",
       "      <td>18.290256</td>\n",
       "      <td>0.016717</td>\n",
       "      <td>0.010791</td>\n",
       "      <td>0.427096</td>\n",
       "      <td>0.427096</td>\n",
       "    </tr>\n",
       "    <tr>\n",
       "      <th>min</th>\n",
       "      <td>2.595000e+03</td>\n",
       "      <td>1.678000e+03</td>\n",
       "      <td>40.500314</td>\n",
       "      <td>-74.251907</td>\n",
       "      <td>0.000000</td>\n",
       "      <td>1.000000</td>\n",
       "      <td>0.000000</td>\n",
       "      <td>0.000000</td>\n",
       "      <td>1.000000</td>\n",
       "      <td>0.000000</td>\n",
       "      <td>0.000000</td>\n",
       "      <td>0.000000</td>\n",
       "      <td>0.000000</td>\n",
       "      <td>0.000000</td>\n",
       "      <td>0.000000</td>\n",
       "    </tr>\n",
       "    <tr>\n",
       "      <th>25%</th>\n",
       "      <td>1.940474e+07</td>\n",
       "      <td>1.608533e+07</td>\n",
       "      <td>40.687485</td>\n",
       "      <td>-73.981750</td>\n",
       "      <td>75.000000</td>\n",
       "      <td>2.000000</td>\n",
       "      <td>1.000000</td>\n",
       "      <td>0.010000</td>\n",
       "      <td>1.000000</td>\n",
       "      <td>0.000000</td>\n",
       "      <td>0.000000</td>\n",
       "      <td>0.000000</td>\n",
       "      <td>0.000000</td>\n",
       "      <td>0.000000</td>\n",
       "      <td>0.000000</td>\n",
       "    </tr>\n",
       "    <tr>\n",
       "      <th>50%</th>\n",
       "      <td>4.337482e+07</td>\n",
       "      <td>7.433812e+07</td>\n",
       "      <td>40.724040</td>\n",
       "      <td>-73.952620</td>\n",
       "      <td>125.000000</td>\n",
       "      <td>7.000000</td>\n",
       "      <td>5.000000</td>\n",
       "      <td>0.240000</td>\n",
       "      <td>1.000000</td>\n",
       "      <td>89.000000</td>\n",
       "      <td>0.000000</td>\n",
       "      <td>0.000000</td>\n",
       "      <td>0.000000</td>\n",
       "      <td>0.000000</td>\n",
       "      <td>0.000000</td>\n",
       "    </tr>\n",
       "    <tr>\n",
       "      <th>75%</th>\n",
       "      <td>6.305016e+17</td>\n",
       "      <td>2.680692e+08</td>\n",
       "      <td>40.762293</td>\n",
       "      <td>-73.924035</td>\n",
       "      <td>200.000000</td>\n",
       "      <td>30.000000</td>\n",
       "      <td>24.000000</td>\n",
       "      <td>1.170000</td>\n",
       "      <td>4.000000</td>\n",
       "      <td>289.000000</td>\n",
       "      <td>7.000000</td>\n",
       "      <td>0.000000</td>\n",
       "      <td>0.000000</td>\n",
       "      <td>0.000000</td>\n",
       "      <td>0.000000</td>\n",
       "    </tr>\n",
       "    <tr>\n",
       "      <th>max</th>\n",
       "      <td>8.404660e+17</td>\n",
       "      <td>5.038729e+08</td>\n",
       "      <td>40.911380</td>\n",
       "      <td>-73.710870</td>\n",
       "      <td>99000.000000</td>\n",
       "      <td>1250.000000</td>\n",
       "      <td>1842.000000</td>\n",
       "      <td>86.610000</td>\n",
       "      <td>526.000000</td>\n",
       "      <td>365.000000</td>\n",
       "      <td>1093.000000</td>\n",
       "      <td>1.000000</td>\n",
       "      <td>1.000000</td>\n",
       "      <td>1.000000</td>\n",
       "      <td>1.000000</td>\n",
       "    </tr>\n",
       "  </tbody>\n",
       "</table>\n",
       "</div>"
      ],
      "text/plain": [
       "                 id       host_id      latitude     longitude         price  \\\n",
       "count  4.293100e+04  4.293100e+04  42931.000000  42931.000000  42931.000000   \n",
       "mean   2.222772e+17  1.516012e+08     40.728273    -73.943665    200.307167   \n",
       "std    3.344213e+17  1.621301e+08      0.057640      0.056627    895.082911   \n",
       "min    2.595000e+03  1.678000e+03     40.500314    -74.251907      0.000000   \n",
       "25%    1.940474e+07  1.608533e+07     40.687485    -73.981750     75.000000   \n",
       "50%    4.337482e+07  7.433812e+07     40.724040    -73.952620    125.000000   \n",
       "75%    6.305016e+17  2.680692e+08     40.762293    -73.924035    200.000000   \n",
       "max    8.404660e+17  5.038729e+08     40.911380    -73.710870  99000.000000   \n",
       "\n",
       "       minimum_nights  number_of_reviews  reviews_per_month  \\\n",
       "count    42931.000000       42931.000000       42931.000000   \n",
       "mean        18.111178          25.856001           0.888416   \n",
       "std         27.462513          56.616344           1.638122   \n",
       "min          1.000000           0.000000           0.000000   \n",
       "25%          2.000000           1.000000           0.010000   \n",
       "50%          7.000000           5.000000           0.240000   \n",
       "75%         30.000000          24.000000           1.170000   \n",
       "max       1250.000000        1842.000000          86.610000   \n",
       "\n",
       "       calculated_host_listings_count  availability_365  \\\n",
       "count                    42931.000000      42931.000000   \n",
       "mean                        24.054809        140.262211   \n",
       "std                         80.867958        142.001486   \n",
       "min                          1.000000          0.000000   \n",
       "25%                          1.000000          0.000000   \n",
       "50%                          1.000000         89.000000   \n",
       "75%                          4.000000        289.000000   \n",
       "max                        526.000000        365.000000   \n",
       "\n",
       "       number_of_reviews_ltm  name_missing  host_name_missing  \\\n",
       "count           42931.000000  42931.000000       42931.000000   \n",
       "mean                7.736507      0.000280           0.000116   \n",
       "std                18.290256      0.016717           0.010791   \n",
       "min                 0.000000      0.000000           0.000000   \n",
       "25%                 0.000000      0.000000           0.000000   \n",
       "50%                 0.000000      0.000000           0.000000   \n",
       "75%                 7.000000      0.000000           0.000000   \n",
       "max              1093.000000      1.000000           1.000000   \n",
       "\n",
       "       last_review_missing  reviews_per_month_missing  \n",
       "count         42931.000000               42931.000000  \n",
       "mean              0.240013                   0.240013  \n",
       "std               0.427096                   0.427096  \n",
       "min               0.000000                   0.000000  \n",
       "25%               0.000000                   0.000000  \n",
       "50%               0.000000                   0.000000  \n",
       "75%               0.000000                   0.000000  \n",
       "max               1.000000                   1.000000  "
      ]
     },
     "execution_count": 68,
     "metadata": {},
     "output_type": "execute_result"
    }
   ],
   "source": [
    "# Before applying correction:\n",
    "df.describe()"
   ]
  },
  {
   "cell_type": "code",
   "execution_count": 69,
   "metadata": {},
   "outputs": [],
   "source": [
    "# Validate and Correct Numerical Values:\n",
    "\n",
    "# Correct Negative Values for price: Ensure the price is non-negative, as a negative price doesn't make sense.\n",
    "df['price'] = df['price'].apply(lambda x: max(x, 0))\n",
    "\n",
    "# Latitude and Longitude Validation: Ensure latitude is between -90 and 90 and longitude is between -180 and 180.\n",
    "# Latitude correction\n",
    "df['latitude'] = df['latitude'].apply(lambda x: min(max(x, -90), 90))\n",
    "\n",
    "# Longitude correction\n",
    "df['longitude'] = df['longitude'].apply(lambda x: min(max(x, -180), 180))\n",
    "\n",
    "# Ensure minimum_nights is a Positive Integer:\n",
    "df['minimum_nights'] = df['minimum_nights'].apply(lambda x: max(x, 1))\n",
    "\n",
    "# Ensure availability_365 is within 0 to 365:\n",
    "df['availability_365'] = df['availability_365'].apply(lambda x: min(max(x, 0), 365))\n",
    "\n",
    "# Ensure number_of_reviews, calculated_host_listings_count, and number_of_reviews_ltm are Non-negative:\n",
    "df['number_of_reviews'] = df['number_of_reviews'].apply(lambda x: max(x, 0))\n",
    "df['calculated_host_listings_count'] = df['calculated_host_listings_count'].apply(lambda x: max(x, 0))\n",
    "df['number_of_reviews_ltm'] = df['number_of_reviews_ltm'].apply(lambda x: max(x, 0))\n"
   ]
  },
  {
   "cell_type": "code",
   "execution_count": 71,
   "metadata": {},
   "outputs": [
    {
     "data": {
      "text/html": [
       "<div>\n",
       "<style scoped>\n",
       "    .dataframe tbody tr th:only-of-type {\n",
       "        vertical-align: middle;\n",
       "    }\n",
       "\n",
       "    .dataframe tbody tr th {\n",
       "        vertical-align: top;\n",
       "    }\n",
       "\n",
       "    .dataframe thead th {\n",
       "        text-align: right;\n",
       "    }\n",
       "</style>\n",
       "<table border=\"1\" class=\"dataframe\">\n",
       "  <thead>\n",
       "    <tr style=\"text-align: right;\">\n",
       "      <th></th>\n",
       "      <th>id</th>\n",
       "      <th>host_id</th>\n",
       "      <th>latitude</th>\n",
       "      <th>longitude</th>\n",
       "      <th>price</th>\n",
       "      <th>minimum_nights</th>\n",
       "      <th>number_of_reviews</th>\n",
       "      <th>reviews_per_month</th>\n",
       "      <th>calculated_host_listings_count</th>\n",
       "      <th>availability_365</th>\n",
       "      <th>number_of_reviews_ltm</th>\n",
       "      <th>name_missing</th>\n",
       "      <th>host_name_missing</th>\n",
       "      <th>last_review_missing</th>\n",
       "      <th>reviews_per_month_missing</th>\n",
       "    </tr>\n",
       "  </thead>\n",
       "  <tbody>\n",
       "    <tr>\n",
       "      <th>count</th>\n",
       "      <td>4.293100e+04</td>\n",
       "      <td>4.293100e+04</td>\n",
       "      <td>42931.000000</td>\n",
       "      <td>42931.000000</td>\n",
       "      <td>42931.000000</td>\n",
       "      <td>42931.000000</td>\n",
       "      <td>42931.000000</td>\n",
       "      <td>42931.000000</td>\n",
       "      <td>42931.000000</td>\n",
       "      <td>42931.000000</td>\n",
       "      <td>42931.000000</td>\n",
       "      <td>42931.000000</td>\n",
       "      <td>42931.000000</td>\n",
       "      <td>42931.000000</td>\n",
       "      <td>42931.000000</td>\n",
       "    </tr>\n",
       "    <tr>\n",
       "      <th>mean</th>\n",
       "      <td>2.222772e+17</td>\n",
       "      <td>1.516012e+08</td>\n",
       "      <td>40.728273</td>\n",
       "      <td>-73.943665</td>\n",
       "      <td>200.307167</td>\n",
       "      <td>18.111178</td>\n",
       "      <td>25.856001</td>\n",
       "      <td>0.888416</td>\n",
       "      <td>24.054809</td>\n",
       "      <td>140.262211</td>\n",
       "      <td>7.736507</td>\n",
       "      <td>0.000280</td>\n",
       "      <td>0.000116</td>\n",
       "      <td>0.240013</td>\n",
       "      <td>0.240013</td>\n",
       "    </tr>\n",
       "    <tr>\n",
       "      <th>std</th>\n",
       "      <td>3.344213e+17</td>\n",
       "      <td>1.621301e+08</td>\n",
       "      <td>0.057640</td>\n",
       "      <td>0.056627</td>\n",
       "      <td>895.082911</td>\n",
       "      <td>27.462513</td>\n",
       "      <td>56.616344</td>\n",
       "      <td>1.638122</td>\n",
       "      <td>80.867958</td>\n",
       "      <td>142.001486</td>\n",
       "      <td>18.290256</td>\n",
       "      <td>0.016717</td>\n",
       "      <td>0.010791</td>\n",
       "      <td>0.427096</td>\n",
       "      <td>0.427096</td>\n",
       "    </tr>\n",
       "    <tr>\n",
       "      <th>min</th>\n",
       "      <td>2.595000e+03</td>\n",
       "      <td>1.678000e+03</td>\n",
       "      <td>40.500314</td>\n",
       "      <td>-74.251907</td>\n",
       "      <td>0.000000</td>\n",
       "      <td>1.000000</td>\n",
       "      <td>0.000000</td>\n",
       "      <td>0.000000</td>\n",
       "      <td>1.000000</td>\n",
       "      <td>0.000000</td>\n",
       "      <td>0.000000</td>\n",
       "      <td>0.000000</td>\n",
       "      <td>0.000000</td>\n",
       "      <td>0.000000</td>\n",
       "      <td>0.000000</td>\n",
       "    </tr>\n",
       "    <tr>\n",
       "      <th>25%</th>\n",
       "      <td>1.940474e+07</td>\n",
       "      <td>1.608533e+07</td>\n",
       "      <td>40.687485</td>\n",
       "      <td>-73.981750</td>\n",
       "      <td>75.000000</td>\n",
       "      <td>2.000000</td>\n",
       "      <td>1.000000</td>\n",
       "      <td>0.010000</td>\n",
       "      <td>1.000000</td>\n",
       "      <td>0.000000</td>\n",
       "      <td>0.000000</td>\n",
       "      <td>0.000000</td>\n",
       "      <td>0.000000</td>\n",
       "      <td>0.000000</td>\n",
       "      <td>0.000000</td>\n",
       "    </tr>\n",
       "    <tr>\n",
       "      <th>50%</th>\n",
       "      <td>4.337482e+07</td>\n",
       "      <td>7.433812e+07</td>\n",
       "      <td>40.724040</td>\n",
       "      <td>-73.952620</td>\n",
       "      <td>125.000000</td>\n",
       "      <td>7.000000</td>\n",
       "      <td>5.000000</td>\n",
       "      <td>0.240000</td>\n",
       "      <td>1.000000</td>\n",
       "      <td>89.000000</td>\n",
       "      <td>0.000000</td>\n",
       "      <td>0.000000</td>\n",
       "      <td>0.000000</td>\n",
       "      <td>0.000000</td>\n",
       "      <td>0.000000</td>\n",
       "    </tr>\n",
       "    <tr>\n",
       "      <th>75%</th>\n",
       "      <td>6.305016e+17</td>\n",
       "      <td>2.680692e+08</td>\n",
       "      <td>40.762293</td>\n",
       "      <td>-73.924035</td>\n",
       "      <td>200.000000</td>\n",
       "      <td>30.000000</td>\n",
       "      <td>24.000000</td>\n",
       "      <td>1.170000</td>\n",
       "      <td>4.000000</td>\n",
       "      <td>289.000000</td>\n",
       "      <td>7.000000</td>\n",
       "      <td>0.000000</td>\n",
       "      <td>0.000000</td>\n",
       "      <td>0.000000</td>\n",
       "      <td>0.000000</td>\n",
       "    </tr>\n",
       "    <tr>\n",
       "      <th>max</th>\n",
       "      <td>8.404660e+17</td>\n",
       "      <td>5.038729e+08</td>\n",
       "      <td>40.911380</td>\n",
       "      <td>-73.710870</td>\n",
       "      <td>99000.000000</td>\n",
       "      <td>1250.000000</td>\n",
       "      <td>1842.000000</td>\n",
       "      <td>86.610000</td>\n",
       "      <td>526.000000</td>\n",
       "      <td>365.000000</td>\n",
       "      <td>1093.000000</td>\n",
       "      <td>1.000000</td>\n",
       "      <td>1.000000</td>\n",
       "      <td>1.000000</td>\n",
       "      <td>1.000000</td>\n",
       "    </tr>\n",
       "  </tbody>\n",
       "</table>\n",
       "</div>"
      ],
      "text/plain": [
       "                 id       host_id      latitude     longitude         price  \\\n",
       "count  4.293100e+04  4.293100e+04  42931.000000  42931.000000  42931.000000   \n",
       "mean   2.222772e+17  1.516012e+08     40.728273    -73.943665    200.307167   \n",
       "std    3.344213e+17  1.621301e+08      0.057640      0.056627    895.082911   \n",
       "min    2.595000e+03  1.678000e+03     40.500314    -74.251907      0.000000   \n",
       "25%    1.940474e+07  1.608533e+07     40.687485    -73.981750     75.000000   \n",
       "50%    4.337482e+07  7.433812e+07     40.724040    -73.952620    125.000000   \n",
       "75%    6.305016e+17  2.680692e+08     40.762293    -73.924035    200.000000   \n",
       "max    8.404660e+17  5.038729e+08     40.911380    -73.710870  99000.000000   \n",
       "\n",
       "       minimum_nights  number_of_reviews  reviews_per_month  \\\n",
       "count    42931.000000       42931.000000       42931.000000   \n",
       "mean        18.111178          25.856001           0.888416   \n",
       "std         27.462513          56.616344           1.638122   \n",
       "min          1.000000           0.000000           0.000000   \n",
       "25%          2.000000           1.000000           0.010000   \n",
       "50%          7.000000           5.000000           0.240000   \n",
       "75%         30.000000          24.000000           1.170000   \n",
       "max       1250.000000        1842.000000          86.610000   \n",
       "\n",
       "       calculated_host_listings_count  availability_365  \\\n",
       "count                    42931.000000      42931.000000   \n",
       "mean                        24.054809        140.262211   \n",
       "std                         80.867958        142.001486   \n",
       "min                          1.000000          0.000000   \n",
       "25%                          1.000000          0.000000   \n",
       "50%                          1.000000         89.000000   \n",
       "75%                          4.000000        289.000000   \n",
       "max                        526.000000        365.000000   \n",
       "\n",
       "       number_of_reviews_ltm  name_missing  host_name_missing  \\\n",
       "count           42931.000000  42931.000000       42931.000000   \n",
       "mean                7.736507      0.000280           0.000116   \n",
       "std                18.290256      0.016717           0.010791   \n",
       "min                 0.000000      0.000000           0.000000   \n",
       "25%                 0.000000      0.000000           0.000000   \n",
       "50%                 0.000000      0.000000           0.000000   \n",
       "75%                 7.000000      0.000000           0.000000   \n",
       "max              1093.000000      1.000000           1.000000   \n",
       "\n",
       "       last_review_missing  reviews_per_month_missing  \n",
       "count         42931.000000               42931.000000  \n",
       "mean              0.240013                   0.240013  \n",
       "std               0.427096                   0.427096  \n",
       "min               0.000000                   0.000000  \n",
       "25%               0.000000                   0.000000  \n",
       "50%               0.000000                   0.000000  \n",
       "75%               0.000000                   0.000000  \n",
       "max               1.000000                   1.000000  "
      ]
     },
     "execution_count": 71,
     "metadata": {},
     "output_type": "execute_result"
    }
   ],
   "source": [
    "# After correction applied:\n",
    "df.describe()"
   ]
  },
  {
   "cell_type": "markdown",
   "metadata": {},
   "source": []
  },
  {
   "cell_type": "markdown",
   "metadata": {},
   "source": [
    "##### Remove Duplicates"
   ]
  },
  {
   "cell_type": "markdown",
   "metadata": {},
   "source": [
    "1. Identify and Remove Duplicates:"
   ]
  },
  {
   "cell_type": "code",
   "execution_count": 73,
   "metadata": {},
   "outputs": [
    {
     "name": "stdout",
     "output_type": "stream",
     "text": [
      "Number of duplicate rows: 0\n",
      "Number of duplicate rows after removal: 0\n"
     ]
    }
   ],
   "source": [
    "###########################################################################\n",
    "# Check for duplicates\n",
    "# Find and remove duplicate rows in the DataFrame.\n",
    "###########################################################################\n",
    "\n",
    "# Find duplicate rows\n",
    "duplicate_rows = df.duplicated().sum()\n",
    "\n",
    "# Display the number of duplicate rows\n",
    "print(f\"Number of duplicate rows: {duplicate_rows}\")\n",
    "\n",
    "# Remove duplicate rows\n",
    "df.drop_duplicates(inplace=True)\n",
    "\n",
    "# Verify removal of duplicates\n",
    "print(f\"Number of duplicate rows after removal: {df.duplicated().sum()}\")\n"
   ]
  },
  {
   "cell_type": "code",
   "execution_count": null,
   "metadata": {},
   "outputs": [],
   "source": []
  },
  {
   "cell_type": "markdown",
   "metadata": {},
   "source": [
    "##### Verify Data Quality"
   ]
  },
  {
   "cell_type": "markdown",
   "metadata": {},
   "source": [
    "a. Re-check Missing Values:"
   ]
  },
  {
   "cell_type": "code",
   "execution_count": 76,
   "metadata": {},
   "outputs": [
    {
     "name": "stdout",
     "output_type": "stream",
     "text": [
      "id                                    0\n",
      "name                                  0\n",
      "host_id                               0\n",
      "host_name                             0\n",
      "neighbourhood_group                   0\n",
      "neighbourhood                         0\n",
      "latitude                              0\n",
      "longitude                             0\n",
      "room_type                             0\n",
      "price                                 0\n",
      "minimum_nights                        0\n",
      "number_of_reviews                     0\n",
      "last_review                       10304\n",
      "reviews_per_month                     0\n",
      "calculated_host_listings_count        0\n",
      "availability_365                      0\n",
      "number_of_reviews_ltm                 0\n",
      "name_missing                          0\n",
      "host_name_missing                     0\n",
      "last_review_missing                   0\n",
      "reviews_per_month_missing             0\n",
      "dtype: int64\n"
     ]
    }
   ],
   "source": [
    "# Verify there are no more missing values\n",
    "missing_values_after = df.isnull().sum()\n",
    "print(missing_values_after)"
   ]
  },
  {
   "cell_type": "markdown",
   "metadata": {},
   "source": [
    "Note : Missing values in last_review   10304 are due to imputation of pd.NaT i.e Not a Time values present."
   ]
  },
  {
   "cell_type": "markdown",
   "metadata": {},
   "source": [
    "b. Verify Data Types and Consistency:"
   ]
  },
  {
   "cell_type": "code",
   "execution_count": 80,
   "metadata": {},
   "outputs": [
    {
     "name": "stdout",
     "output_type": "stream",
     "text": [
      "id                                  int64\n",
      "name                               object\n",
      "host_id                             int64\n",
      "host_name                          object\n",
      "neighbourhood_group                object\n",
      "neighbourhood                      object\n",
      "latitude                          float64\n",
      "longitude                         float64\n",
      "room_type                          object\n",
      "price                               int64\n",
      "minimum_nights                      int64\n",
      "number_of_reviews                   int64\n",
      "last_review                        object\n",
      "reviews_per_month                 float64\n",
      "calculated_host_listings_count      int64\n",
      "availability_365                    int64\n",
      "number_of_reviews_ltm               int64\n",
      "name_missing                        int64\n",
      "host_name_missing                   int64\n",
      "last_review_missing                 int64\n",
      "reviews_per_month_missing           int64\n",
      "dtype: object\n"
     ]
    }
   ],
   "source": [
    "###########################################################################\n",
    "# Check data types\n",
    "###########################################################################\n",
    "\n",
    "print(df.dtypes)"
   ]
  },
  {
   "cell_type": "code",
   "execution_count": 86,
   "metadata": {},
   "outputs": [
    {
     "name": "stdout",
     "output_type": "stream",
     "text": [
      "datetime64[ns]\n",
      "10304\n"
     ]
    }
   ],
   "source": [
    "# Convert date time 'last_review' to datetime\n",
    "df['last_review'] = pd.to_datetime(df['last_review'], errors='coerce')\n",
    "\n",
    "# Verify the data type\n",
    "print(df['last_review'].dtype)\n",
    "\n",
    "# Optionally, check for any NaT values to ensure the conversion was successful\n",
    "print(df['last_review'].isna().sum())\n"
   ]
  },
  {
   "cell_type": "code",
   "execution_count": 87,
   "metadata": {},
   "outputs": [
    {
     "name": "stdout",
     "output_type": "stream",
     "text": [
      "id                                         int64\n",
      "name                                      object\n",
      "host_id                                    int64\n",
      "host_name                                 object\n",
      "neighbourhood_group                       object\n",
      "neighbourhood                             object\n",
      "latitude                                 float64\n",
      "longitude                                float64\n",
      "room_type                                 object\n",
      "price                                    float64\n",
      "minimum_nights                             int64\n",
      "number_of_reviews                          int64\n",
      "last_review                       datetime64[ns]\n",
      "reviews_per_month                        float64\n",
      "calculated_host_listings_count             int64\n",
      "availability_365                           int64\n",
      "number_of_reviews_ltm                      int64\n",
      "name_missing                               int64\n",
      "host_name_missing                          int64\n",
      "last_review_missing                        int64\n",
      "reviews_per_month_missing                  int64\n",
      "dtype: object\n"
     ]
    }
   ],
   "source": [
    "# Convert integer columns to int64 (though they are likely already int64)\n",
    "integer_columns = [\n",
    "    'id', 'host_id', 'minimum_nights', 'number_of_reviews',\n",
    "    'calculated_host_listings_count', 'availability_365', \n",
    "    'number_of_reviews_ltm', 'name_missing', 'host_name_missing', \n",
    "    'last_review_missing', 'reviews_per_month_missing'\n",
    "]\n",
    "\n",
    "# Convert these columns explicitly to int64\n",
    "for col in integer_columns:\n",
    "    df[col] = df[col].astype('int64')\n",
    "\n",
    "# Convert float columns to float64\n",
    "float_columns = [ 'price', 'latitude', 'longitude', 'reviews_per_month']\n",
    "\n",
    "# Convert these columns explicitly to float64\n",
    "for col in float_columns:\n",
    "    df[col] = df[col].astype('float64')\n",
    "\n",
    "# Verify the data types after conversion\n",
    "print(df.dtypes)\n"
   ]
  },
  {
   "cell_type": "markdown",
   "metadata": {},
   "source": [
    "##### Save Cleaned Data"
   ]
  },
  {
   "cell_type": "markdown",
   "metadata": {},
   "source": [
    "1. Save the Cleaned Data"
   ]
  },
  {
   "cell_type": "code",
   "execution_count": 94,
   "metadata": {},
   "outputs": [],
   "source": [
    "# Save the cleaned dataset\n",
    "df.to_csv('../data/processed/cleaned_NYC-Airbnb-2023.csv', index=False)"
   ]
  },
  {
   "cell_type": "markdown",
   "metadata": {},
   "source": [
    "#### 2.\tData Transformation"
   ]
  },
  {
   "cell_type": "markdown",
   "metadata": {},
   "source": [
    "##### 1. Normalize / Scale Numerical Features"
   ]
  },
  {
   "cell_type": "markdown",
   "metadata": {},
   "source": [
    "###"
   ]
  }
 ],
 "metadata": {
  "kernelspec": {
   "display_name": "venv",
   "language": "python",
   "name": "python3"
  },
  "language_info": {
   "codemirror_mode": {
    "name": "ipython",
    "version": 3
   },
   "file_extension": ".py",
   "mimetype": "text/x-python",
   "name": "python",
   "nbconvert_exporter": "python",
   "pygments_lexer": "ipython3",
   "version": "3.9.1"
  }
 },
 "nbformat": 4,
 "nbformat_minor": 2
}
